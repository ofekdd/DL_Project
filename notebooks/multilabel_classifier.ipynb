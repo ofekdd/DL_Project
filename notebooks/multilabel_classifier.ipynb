{
 "cells": [
  {
   "cell_type": "code",
   "id": "fae51c5c100772c5",
   "metadata": {},
   "source": [
    "# TODO: import stuff\n",
    "from __future__ import annotations\n",
    "import sys\n",
    "import random\n",
    "import os\n",
    "import torch\n",
    "import librosa\n",
    "import numpy as np\n",
    "import matplotlib.pyplot as plt\n",
    "import yaml\n",
    "import urllib.request\n",
    "from torch.utils.data import DataLoader, Dataset\n",
    "import warnings, tqdm\n",
    "\n",
    "from DL_Project.notebooks.instrument_classifier import visualize_audio\n",
    "\n",
    "warnings.filterwarnings(\"ignore\", category=tqdm.TqdmWarning)\n",
    "sys.modules['tqdm.notebook'] = tqdm\n",
    "sys.modules['tqdm.autonotebook'] = tqdm\n",
    "from tqdm import tqdm  # now `tqdm(...)` is always the console bar\n",
    "\n",
    "IN_COLAB = 'google.colab' in sys.modules\n",
    "\n",
    "if IN_COLAB:\n",
    "    # Clone the repository\n",
    "    !git clone https://github.com/ofekdd/DL_Project.git\n",
    "    %cd DL_Project\n",
    "\n",
    "    # Install dependencies\n",
    "    !pip install -r requirements.txt\n",
    "\n"
   ],
   "execution_count": null,
   "outputs": []
  },
  {
   "metadata": {},
   "cell_type": "code",
   "outputs": [],
   "execution_count": null,
   "source": [
    "from configs import 9cnn.yaml\n",
    "os.makedirs('configs', exist_ok=True)\n",
    "cfg = yaml.safe_load(9cnn_config)\n",
    "\n",
    "print(\"9cnn configuration:\")\n",
    "for key, value in cfg.items():\n",
    "    print(f\"  {key}: {value}\")"
   ],
   "id": "4be9f8e58789698a"
  },
  {
   "metadata": {},
   "cell_type": "code",
   "execution_count": null,
   "source": [
    "!python /data/download_irmas.py\n",
    "\n",
    "# TODO: mount, collab or local, GPU"
   ],
   "id": "e96b51ebbb46946c",
   "outputs": []
  },
  {
   "metadata": {},
   "cell_type": "code",
   "outputs": [],
   "execution_count": null,
   "source": [
    "# Create datasets and dataloaders\n",
    "train_ds = NpyDataset(\"data/processed/train\")\n",
    "val_ds = NpyDataset(\"data/processed/val\")\n",
    "\n",
    "print(f\"Training dataset size: {len(train_ds)}\")\n",
    "print(f\"Validation dataset size: {len(val_ds)}\")\n",
    "\n",
    "# Create dataloaders\n",
    "train_loader = DataLoader(train_ds, batch_size=cfg['batch_size'], shuffle=True, num_workers=cfg['num_workers'], collate_fn=pad_collate)\n",
    "val_loader = DataLoader(val_ds, batch_size=cfg['batch_size'], shuffle=False, num_workers=cfg['num_workers'], collate_fn=pad_collate)\n"
   ],
   "id": "d520e05e5d792b2b"
  },
  {
   "metadata": {},
   "cell_type": "code",
   "execution_count": null,
   "source": [
    "irmas_root = find_irmas_root()\n",
    "\n",
    "if irmas_root is None:\n",
    "    print(\"❌  No IRMAS audio found. Did you run download_irmas.py yet?\")\n",
    "else:\n",
    "    print(f\"Using IRMAS root: {irmas_root}\")\n",
    "    preprocess_data(irmas_root, \"data/processed\", cfg)\n",
    "# TODO: import data normalize, split train/val/test. preprocess: STFT, normalize and reshape"
   ],
   "id": "3b8e4f045c26a78c",
   "outputs": []
  },
  {
   "metadata": {},
   "cell_type": "code",
   "execution_count": null,
   "source": [
    "import models/9cnn_baseline.py\n",
    "\n",
    "print(\"9 CNN Baseline Architecture:\")\n",
    "print(MultiSTFTCNN())\n",
    "\n",
    "# TODO: define model"
   ],
   "id": "17f023b62a55eedb",
   "outputs": []
  },
  {
   "metadata": {},
   "cell_type": "code",
   "execution_count": null,
   "source": [
    "model.train\n",
    "# TODO: train on model, through STFT"
   ],
   "id": "761c3efe9b680c00",
   "outputs": []
  },
  {
   "metadata": {},
   "cell_type": "code",
   "execution_count": null,
   "source": [
    "model.test\n",
    "# TODO: define datapath for test/use: from stft to cnn"
   ],
   "id": "f97e4a403da5d6cc",
   "outputs": []
  },
  {
   "metadata": {},
   "cell_type": "code",
   "outputs": [],
   "execution_count": 2,
   "source": [
    "\n",
    "visualize_audio(...)\n",
    "# TODO: test and show results."
   ],
   "id": "initial_id"
  }
 ],
 "metadata": {
  "kernelspec": {
   "display_name": "Python 3",
   "language": "python",
   "name": "python3"
  },
  "language_info": {
   "codemirror_mode": {
    "name": "ipython",
    "version": 2
   },
   "file_extension": ".py",
   "mimetype": "text/x-python",
   "name": "python",
   "nbconvert_exporter": "python",
   "pygments_lexer": "ipython2",
   "version": "2.7.6"
  }
 },
 "nbformat": 4,
 "nbformat_minor": 5
}
