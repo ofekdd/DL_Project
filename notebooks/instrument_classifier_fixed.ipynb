{
 "cells": [
  {
   "cell_type": "markdown",
   "id": "9bf72c71",
   "metadata": {},
   "source": [
    "# Instrument Classification – Colab Runtime\n",
    "This notebook sets up the environment, downloads the IRMAS dataset **once** to your Google Drive (shared folder), regenerates features each session, and trains the model."
   ]
  },
  {
   "cell_type": "code",
   "execution_count": null,
   "id": "9e638d66",
   "metadata": {},
   "outputs": [],
   "source": [
    "\n",
    "# --- Colab & Drive setup ----------------------------------------------------\n",
    "import sys, pathlib, os\n",
    "IN_COLAB = 'google.colab' in sys.modules\n",
    "\n",
    "if IN_COLAB:\n",
    "    from google.colab import drive\n",
    "    drive.mount('/content/drive')\n",
    "    print(\"Drive mounted.\")\n",
    "else:\n",
    "    print(\"Running outside Colab\")\n"
   ]
  },
  {
   "cell_type": "code",
   "execution_count": null,
   "id": "5d6753b8",
   "metadata": {},
   "outputs": [],
   "source": [
    "\n",
    "# --- Project clone & dependency install ------------------------------------\n",
    "REPO_URL = \"https://github.com/ofekdd/DL_Project.git\"   # <- adjust if needed\n",
    "REPO_DIR = \"DL_Project\"\n",
    "\n",
    "if not pathlib.Path(REPO_DIR).is_dir():\n",
    "    !git clone $REPO_URL\n",
    "%cd $REPO_DIR\n",
    "\n",
    "!pip -q install -r requirements.txt\n"
   ]
  },
  {
   "cell_type": "code",
   "execution_count": null,
   "id": "274c6e83",
   "metadata": {},
   "outputs": [],
   "source": [
    "\n",
    "# --- Dataset download (raw zip only on Drive) ------------------------------\n",
    "import subprocess, pathlib, os, sys\n",
    "\n",
    "DATA_CACHE = \"/content/drive/MyDrive/DL_Shared/IRMAS\" if IN_COLAB else \"data/raw/IRMAS\"\n",
    "!python data/download_irmas.py --out_dir $DATA_CACHE\n"
   ]
  },
  {
   "cell_type": "code",
   "execution_count": null,
   "id": "2a9b12c2",
   "metadata": {},
   "outputs": [],
   "source": [
    "\n",
    "# --- Feature preprocessing (done each session into /content) ---------------\n",
    "import pathlib, os, sys, subprocess, json, shutil\n",
    "\n",
    "FEATURE_DIR = \"/content/IRMAS_features\"\n",
    "if not pathlib.Path(FEATURE_DIR).is_dir():\n",
    "    print(\"Preprocessing train split ...\")\n",
    "    !python data/preprocess.py --in_dir $DATA_CACHE/IRMAS-TrainingData --out_dir $FEATURE_DIR/train\n",
    "    print(\"Preprocessing test split ...\")\n",
    "    !python data/preprocess.py --in_dir $DATA_CACHE/IRMAS-TestingData --out_dir $FEATURE_DIR/test\n",
    "else:\n",
    "    print(\"Features already exist in this runtime – skipping.\")\n"
   ]
  },
  {
   "cell_type": "code",
   "execution_count": null,
   "id": "6b7817bd",
   "metadata": {},
   "outputs": [],
   "source": [
    "\n",
    "# --- Training --------------------------------------------------------------\n",
    "import torch, yaml\n",
    "from training.train import main as train_main\n",
    "\n",
    "CONFIG = \"configs/model_resnet.yaml\"\n",
    "!python -m training.train --config $CONFIG\n"
   ]
  },
  {
   "cell_type": "code",
   "execution_count": null,
   "id": "8b368f5c",
   "metadata": {},
   "outputs": [],
   "source": [
    "\n",
    "# --- Inference demo --------------------------------------------------------\n",
    "CKPT_PATH = !ls lightning_logs/*/checkpoints/*.ckpt | tail -n 1\n",
    "TEST_WAV = f\"{DATA_CACHE}/IRMAS-TestingData/0001.wav\"\n",
    "!python inference/predict.py {CKPT_PATH[0]} $TEST_WAV\n"
   ]
  }
 ],
 "metadata": {
  "kernelspec": {
   "display_name": "Python 3",
   "name": "python3"
  }
 },
 "nbformat": 4,
 "nbformat_minor": 5
}
